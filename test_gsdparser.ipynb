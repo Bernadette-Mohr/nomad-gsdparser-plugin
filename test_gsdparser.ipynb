{
 "cells": [
  {
   "cell_type": "code",
   "execution_count": 1,
   "metadata": {},
   "outputs": [],
   "source": [
    "from nomad.datamodel import EntryArchive\n",
    "from nomad_parser_gsd.parsers.parser import GSDParser"
   ]
  },
  {
   "cell_type": "code",
   "execution_count": 2,
   "metadata": {},
   "outputs": [
    {
     "name": "stdout",
     "output_type": "stream",
     "text": [
      "mainfile tests/data/trajectory.gsd\n",
      "_maindir: tests/data\n",
      "_gsd_files: ['trajectory.gsd']\n",
      "_basename: trajectory\n"
     ]
    }
   ],
   "source": [
    "archive = EntryArchive()\n",
    "parser = GSDParser()\n",
    "\n",
    "parser.parse(mainfile='tests/data/trajectory.gsd', archive=archive, logger=None)\n"
   ]
  },
  {
   "cell_type": "code",
   "execution_count": null,
   "metadata": {},
   "outputs": [],
   "source": []
  }
 ],
 "metadata": {
  "kernelspec": {
   "display_name": ".pyenv",
   "language": "python",
   "name": "python3"
  },
  "language_info": {
   "codemirror_mode": {
    "name": "ipython",
    "version": 3
   },
   "file_extension": ".py",
   "mimetype": "text/x-python",
   "name": "python",
   "nbconvert_exporter": "python",
   "pygments_lexer": "ipython3",
   "version": "3.11.2"
  }
 },
 "nbformat": 4,
 "nbformat_minor": 2
}
